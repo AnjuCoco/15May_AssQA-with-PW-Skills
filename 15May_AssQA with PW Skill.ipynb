{
 "cells": [
  {
   "cell_type": "code",
   "execution_count": 3,
   "id": "84e12c8b-b095-4160-933c-cab641d8f862",
   "metadata": {},
   "outputs": [
    {
     "data": {
      "text/plain": [
       "\" A1 - Comment code can be assigned using the following ways:\\n\\n# 1. When you want to give a single line comment, use '#' \\n# 2. for a multi-line comment, we can use  (triple quotes at starting and ending \\nof the comment statement\""
      ]
     },
     "execution_count": 3,
     "metadata": {},
     "output_type": "execute_result"
    }
   ],
   "source": [
    "\"\"\" A1 - Comment code can be assigned using the following ways:\n",
    "# 1. When you want to give a single line comment, use '#' \n",
    "# 2. for a multi-line comment, we can use \"\"\"  \"\"\" (triple quotes at starting and ending \n",
    "of the comment statement\"\"\" "
   ]
  },
  {
   "cell_type": "code",
   "execution_count": 4,
   "id": "12a69d7d-5b51-4f42-9af2-40852841d8a9",
   "metadata": {},
   "outputs": [],
   "source": [
    "# A2 - A variable is a name assigned to a memory location where one can store/initialize the data/information\n",
    "# Broadly variables are classified as static and dynamic variables.\n",
    "# Static variables are the ones which have fixed values i.e. x = 4 \n",
    "# dynamic varibales are the ones which doesn't have fixed values i.e. y = x +4 \n",
    "# different types of data that can be assigned to variabls are integer, float,string, boolean etc "
   ]
  },
  {
   "cell_type": "code",
   "execution_count": 8,
   "id": "8e330729-1934-4984-a9f9-0c151cfc954b",
   "metadata": {},
   "outputs": [
    {
     "name": "stdout",
     "output_type": "stream",
     "text": [
      "55\n",
      "type of a is  <class 'str'>\n",
      "type of b is  <class 'str'>\n",
      "type of c is  <class 'int'>\n"
     ]
    }
   ],
   "source": [
    "# A3 - Using type casting, one can convert the data types in python\n",
    "a = '25'\n",
    "b = '30'\n",
    "# converting string a and b into integers using type casting (explicit conversion)for performing addition function \n",
    "c = int(a) + int(b)\n",
    "print(c)\n",
    "print('type of a is ' , type(a))\n",
    "print('type of b is ' , type(b))\n",
    "print('type of c is ' , type(c))"
   ]
  },
  {
   "cell_type": "code",
   "execution_count": 11,
   "id": "3992c46c-6eac-49c1-89ad-e10dfaf720a8",
   "metadata": {},
   "outputs": [
    {
     "name": "stdout",
     "output_type": "stream",
     "text": [
      "Hello PW Skills\n"
     ]
    }
   ],
   "source": [
    "# A4 - wrting a python script\n",
    "print(\"Hello PW Skills\")\n",
    "# to execute a line, press 'shift enter' or press forward triangle available on the header of this window"
   ]
  },
  {
   "cell_type": "code",
   "execution_count": 17,
   "id": "d8ff8870-8e6b-4751-80be-42f61085aa37",
   "metadata": {},
   "outputs": [
    {
     "data": {
      "text/plain": [
       "[2, 3]"
      ]
     },
     "execution_count": 17,
     "metadata": {},
     "output_type": "execute_result"
    }
   ],
   "source": [
    "# A5 slicing to get o/p as [2,3]\n",
    "my_list = [1,2,3,4,5]\n",
    "my_list[1:-2:]"
   ]
  },
  {
   "cell_type": "code",
   "execution_count": 19,
   "id": "44a97889-6e0c-4af4-9a98-22f145fc3b85",
   "metadata": {},
   "outputs": [
    {
     "name": "stdout",
     "output_type": "stream",
     "text": [
      "(3+7j)\n",
      "3.0\n",
      "7.0\n"
     ]
    }
   ],
   "source": [
    "# A6 Complex number is the one which has real value and imaginary value\n",
    "# it is written as eg. 3+7j where 3 is real value and 7 is imaginary value\n",
    "a = 3+7j\n",
    "print(a)\n",
    "print(a.real)\n",
    "print(a.imag)"
   ]
  },
  {
   "cell_type": "code",
   "execution_count": 20,
   "id": "bb8be343-cf35-427b-bcd4-2bc447947b9d",
   "metadata": {},
   "outputs": [
    {
     "name": "stdout",
     "output_type": "stream",
     "text": [
      "age is 25 years\n"
     ]
    }
   ],
   "source": [
    "# A7\n",
    "age = 25\n",
    "print(f'age is {age} years')"
   ]
  },
  {
   "cell_type": "code",
   "execution_count": 27,
   "id": "8eea4591-c219-4233-82d7-cbbc51551bc7",
   "metadata": {},
   "outputs": [
    {
     "name": "stdout",
     "output_type": "stream",
     "text": [
      "data type of price is  <class 'float'>\n",
      "price is Rs. {} 9.99\n"
     ]
    }
   ],
   "source": [
    "# A8 the data type for varibale price is 'float'\n",
    "price = 9.99\n",
    "print(\"data type of price is \", type(price))\n",
    "print('price is Rs. {}', price)\n"
   ]
  },
  {
   "cell_type": "code",
   "execution_count": 28,
   "id": "4e1d3704-b3da-4913-86b2-d87e355fc990",
   "metadata": {},
   "outputs": [
    {
     "name": "stdout",
     "output_type": "stream",
     "text": [
      "PW Skills Data Science Masters\n"
     ]
    }
   ],
   "source": [
    "# A9\n",
    "name = 'PW Skills Data Science Masters'\n",
    "print(name)"
   ]
  },
  {
   "cell_type": "code",
   "execution_count": 32,
   "id": "bf81252f-a98e-4cd5-9c51-e5475fe78bdd",
   "metadata": {},
   "outputs": [
    {
     "data": {
      "text/plain": [
       "'World'"
      ]
     },
     "execution_count": 32,
     "metadata": {},
     "output_type": "execute_result"
    }
   ],
   "source": [
    "# A10\n",
    "str1 = \"Hello, World!\"\n",
    "str1[7:-1]"
   ]
  },
  {
   "cell_type": "code",
   "execution_count": 40,
   "id": "06703894-e900-4924-aacd-66e07c7a4163",
   "metadata": {},
   "outputs": [
    {
     "name": "stdin",
     "output_type": "stream",
     "text": [
      "Confirm whether you are a student: True or False True\n"
     ]
    },
    {
     "name": "stdout",
     "output_type": "stream",
     "text": [
      "is_student\n"
     ]
    }
   ],
   "source": [
    "# A11\n",
    "st1 = 'is_student'\n",
    "student = bool(input('Confirm whether you are a student: True or False'))\n",
    "if student == True:\n",
    "    print(st1)\n"
   ]
  },
  {
   "cell_type": "code",
   "execution_count": null,
   "id": "340a9396-c23e-42c2-abb9-71daf02568a2",
   "metadata": {},
   "outputs": [],
   "source": []
  }
 ],
 "metadata": {
  "kernelspec": {
   "display_name": "Python 3 (ipykernel)",
   "language": "python",
   "name": "python3"
  },
  "language_info": {
   "codemirror_mode": {
    "name": "ipython",
    "version": 3
   },
   "file_extension": ".py",
   "mimetype": "text/x-python",
   "name": "python",
   "nbconvert_exporter": "python",
   "pygments_lexer": "ipython3",
   "version": "3.10.8"
  }
 },
 "nbformat": 4,
 "nbformat_minor": 5
}
